{
 "cells": [
  {
   "cell_type": "code",
   "execution_count": 3,
   "id": "d576d3b0",
   "metadata": {},
   "outputs": [],
   "source": [
    "#importy\n",
    "import numpy as np\n",
    "import pandas as pd\n",
    "import math\n",
    "import seaborn as sns\n",
    "import matplotlib.pyplot as plt\n",
    "import matplotlib.patches as pat\n",
    "from skimage import io\n",
    "import skimage as si\n",
    "import skimage.filters as sif\n",
    "import skimage.segmentation as sis\n",
    "import skimage.measure as sime\n",
    "import skimage.morphology as simo\n",
    "import skimage.color as sic\n",
    "\n",
    "from mpl_toolkits.mplot3d import Axes3D\n",
    "from matplotlib import cm\n",
    "from matplotlib import colors"
   ]
  }
 ],
 "metadata": {
  "kernelspec": {
   "display_name": "Python 3 (ipykernel)",
   "language": "python",
   "name": "python3"
  },
  "language_info": {
   "codemirror_mode": {
    "name": "ipython",
    "version": 3
   },
   "file_extension": ".py",
   "mimetype": "text/x-python",
   "name": "python",
   "nbconvert_exporter": "python",
   "pygments_lexer": "ipython3",
   "version": "3.9.13"
  }
 },
 "nbformat": 4,
 "nbformat_minor": 5
}
